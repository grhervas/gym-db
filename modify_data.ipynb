{
 "cells": [
  {
   "cell_type": "code",
   "execution_count": 1,
   "metadata": {},
   "outputs": [],
   "source": [
    "from pathlib import Path\n",
    "import pandas as pd\n",
    "from time import time\n",
    "\n",
    "from sqlalchemy import create_engine, func\n",
    "from sqlalchemy.orm import sessionmaker\n",
    "from sqlalchemy.orm.exc import NoResultFound\n",
    "\n",
    "from models import (Program, Block, Workout, Workout_set, Exercise, \n",
    "                    Log_workout, Log_set, Historic_pr, exercise_muscle)"
   ]
  },
  {
   "cell_type": "code",
   "execution_count": 2,
   "metadata": {},
   "outputs": [],
   "source": [
    "engine = create_engine(f\"sqlite:///data/db/gym_database.db\")\n",
    "Session = sessionmaker(bind=engine)\n",
    "session = Session()"
   ]
  },
  {
   "cell_type": "code",
   "execution_count": 5,
   "metadata": {},
   "outputs": [
    {
     "data": {
      "text/plain": [
       "[<Block(id=2,desc=Micro 0 Gonzalo septiembre2021,program=Macro Pisano)>,\n",
       " <Block(id=3,desc=Micro1 Gonzalo septiembre2021,program=Macro Pisano)>,\n",
       " <Block(id=4,desc=Micro2 Gonzalo septiembre2021,program=Macro Pisano)>,\n",
       " <Block(id=5,desc=Micro3 Gonzalo octubre2021,program=Macro Pisano)>,\n",
       " <Block(id=6,desc=Micro4 Gonzalo octubre2021,program=Macro Pisano)>,\n",
       " <Block(id=7,desc=Micro5 Gonzalo octubre2021,program=Macro Pisano)>,\n",
       " <Block(id=8,desc=Micro6 Gonzalo octubre2021,program=Macro Pisano)>,\n",
       " <Block(id=9,desc=Micro5 Gonzale,program=Macro Pisano)>]"
      ]
     },
     "execution_count": 5,
     "metadata": {},
     "output_type": "execute_result"
    }
   ],
   "source": [
    "# record_to_del = session.query(Program).filter_by(program_id = 5).one()\n",
    "# record_to_del\n",
    "# session.delete(record_to_del)\n",
    "# session.commit()\n",
    "session.query(Block).all()"
   ]
  },
  {
   "cell_type": "code",
   "execution_count": 4,
   "metadata": {},
   "outputs": [
    {
     "name": "stdout",
     "output_type": "stream",
     "text": [
      "[<Exercise(id=11,desc=dominadas libres)>, <Exercise(id=73,desc=dominadas libres )>]\n",
      "<Exercise(id=2,desc=dominadas)>\n"
     ]
    }
   ],
   "source": [
    "###### Change exercise name ######\n",
    "# 1st. Get exercises IDs to change in all necessary tables\n",
    "exer_to_change =  session.query(Exercise).filter(Exercise.exercise_desc.like(\"dominadas libres%\")).all()\n",
    "print(exer_to_change)\n",
    "ids_to_change = [i.exercise_id for i in exer_to_change]\n",
    "# 2nd. Get \"valid\" exercise ID to replace\n",
    "valid_exer = session.query(Exercise).filter(Exercise.exercise_desc.like(\"dominadas\")).one()\n",
    "print(valid_exer)\n",
    "\n",
    "# 3rd. Get all affected records in necessary tables\n",
    "wods_to_change = session.query(Workout_set).filter(Workout_set.exercise_id.in_(ids_to_change)).all()\n",
    "prs_to_change = session.query(Historic_pr).filter(Historic_pr.exercise_id.in_(ids_to_change)).all()\n",
    "ex_mus_to_change = session.query(exercise_muscle).filter(exercise_muscle.c.exercise_id.in_(ids_to_change)).all()\n",
    "# print(wods_to_change)\n",
    "\n",
    "# 4th. Update to \"valid\" ID in all tables\n",
    "for wod in wods_to_change:\n",
    "    wod.exercise_id = valid_exer.exercise_id\n",
    "    print(wod)\n",
    "for pr in prs_to_change:\n",
    "    pr.exercise_id = valid_exer.exercise_id\n",
    "    print(pr)\n",
    "for ex_mus in ex_mus_to_change:\n",
    "    ex_mus.exercise_id = valid_exer.exercise_id\n",
    "    print(ex_mus)\n",
    "\n",
    "# 5th. Finally, drop the now invalid name records\n",
    "for record in exer_to_change:\n",
    "    session.delete(record)\n",
    "\n",
    "# print(wods_to_change)"
   ]
  },
  {
   "cell_type": "code",
   "execution_count": 5,
   "metadata": {},
   "outputs": [
    {
     "data": {
      "text/plain": [
       "[]"
      ]
     },
     "execution_count": 5,
     "metadata": {},
     "output_type": "execute_result"
    }
   ],
   "source": [
    "session.query(Exercise).filter(Exercise.exercise_id.in_([11, 73])).all()\n",
    "# exercise_muscle"
   ]
  },
  {
   "cell_type": "code",
   "execution_count": null,
   "metadata": {},
   "outputs": [],
   "source": [
    "[i.exercise_id for i in exer_to_change]\n",
    "valid_exer.exercise_id"
   ]
  }
 ],
 "metadata": {
  "interpreter": {
   "hash": "c2508201fbb44b886c4ff1bd0f038d413eeceb5758ef3d475589de0abbab659f"
  },
  "kernelspec": {
   "display_name": "Python 3.9.6 64-bit ('main_linux': conda)",
   "name": "python3"
  },
  "language_info": {
   "codemirror_mode": {
    "name": "ipython",
    "version": 3
   },
   "file_extension": ".py",
   "mimetype": "text/x-python",
   "name": "python",
   "nbconvert_exporter": "python",
   "pygments_lexer": "ipython3",
   "version": "3.9.6"
  },
  "orig_nbformat": 4
 },
 "nbformat": 4,
 "nbformat_minor": 2
}
