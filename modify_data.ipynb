{
 "cells": [
  {
   "cell_type": "code",
   "execution_count": 1,
   "metadata": {},
   "outputs": [],
   "source": [
    "from pathlib import Path\n",
    "import pandas as pd\n",
    "from time import time\n",
    "\n",
    "from sqlalchemy import create_engine, func\n",
    "from sqlalchemy.orm import sessionmaker\n",
    "from sqlalchemy.orm.exc import NoResultFound\n",
    "\n",
    "from models import (Program, Block, Workout, Workout_set, Exercise, \n",
    "                    Log_workout, Log_set, Historic_pr, exercise_muscle)"
   ]
  },
  {
   "cell_type": "code",
   "execution_count": 2,
   "metadata": {},
   "outputs": [],
   "source": [
    "engine = create_engine(f\"sqlite:///data/db/gym_database.db\")\n",
    "Session = sessionmaker(bind=engine)\n",
    "session = Session()"
   ]
  },
  {
   "cell_type": "code",
   "execution_count": 5,
   "metadata": {},
   "outputs": [
    {
     "data": {
      "text/plain": [
       "[<Workout(id=1,name=pierna,program=Macro Pisano,block=Micro0 Gonzalo septiembre2021,date=2021-09-06,week=None,day=None)>,\n",
       " <Workout(id=2,name=torso,program=Macro Pisano,block=Micro0 Gonzalo septiembre2021,date=2021-09-07,week=None,day=None)>,\n",
       " <Workout(id=3,name=acc pierna pst,program=Macro Pisano,block=Micro0 Gonzalo septiembre2021,date=2021-09-09,week=None,day=None)>,\n",
       " <Workout(id=4,name=acc torso,program=Macro Pisano,block=Micro0 Gonzalo septiembre2021,date=2021-09-11,week=None,day=None)>,\n",
       " <Workout(id=5,name=pierna,program=Macro Pisano,block=Micro1 Gonzalo septiembre2021,date=2021-09-13,week=None,day=None)>,\n",
       " <Workout(id=6,name=torso,program=Macro Pisano,block=Micro1 Gonzalo septiembre2021,date=2021-09-14,week=None,day=None)>,\n",
       " <Workout(id=7,name=acc pierna pst,program=Macro Pisano,block=Micro1 Gonzalo septiembre2021,date=2021-09-16,week=None,day=None)>,\n",
       " <Workout(id=8,name=acc torso,program=Macro Pisano,block=Micro1 Gonzalo septiembre2021,date=2021-09-18,week=None,day=None)>,\n",
       " <Workout(id=9,name=pierna,program=Macro Pisano,block=Micro2 Gonzalo septiembre2021,date=2021-09-20,week=None,day=None)>,\n",
       " <Workout(id=10,name=torso,program=Macro Pisano,block=Micro2 Gonzalo septiembre2021,date=2021-09-21,week=None,day=None)>,\n",
       " <Workout(id=11,name=acc piern pst,program=Macro Pisano,block=Micro2 Gonzalo septiembre2021,date=2021-09-23,week=None,day=None)>,\n",
       " <Workout(id=12,name=acc torso,program=Macro Pisano,block=Micro2 Gonzalo septiembre2021,date=2021-09-25,week=None,day=None)>,\n",
       " <Workout(id=13,name=pierna,program=Macro Pisano,block=Micro3 Gonzalo octubre2021,date=2021-10-04,week=None,day=None)>,\n",
       " <Workout(id=14,name=torso,program=Macro Pisano,block=Micro3 Gonzalo octubre2021,date=2021-10-05,week=None,day=None)>,\n",
       " <Workout(id=15,name=pierna pst,program=Macro Pisano,block=Micro3 Gonzalo octubre2021,date=2021-10-07,week=None,day=None)>,\n",
       " <Workout(id=16,name=acc trso,program=Macro Pisano,block=Micro3 Gonzalo octubre2021,date=2021-10-08,week=None,day=None)>,\n",
       " <Workout(id=17,name=pierna,program=Macro Pisano,block=Micro4 Gonzalo octubre2021,date=2021-10-13,week=None,day=None)>,\n",
       " <Workout(id=18,name=torso,program=Macro Pisano,block=Micro4 Gonzalo octubre2021,date=2021-10-14,week=None,day=None)>,\n",
       " <Workout(id=19,name=pierna,program=Macro Pisano,block=Micro5 Gonzalo octubre2021,date=2021-10-18,week=None,day=None)>,\n",
       " <Workout(id=20,name=torso,program=Macro Pisano,block=Micro5 Gonzalo octubre2021,date=2021-10-19,week=None,day=None)>,\n",
       " <Workout(id=21,name=pierna post,program=Macro Pisano,block=Micro5 Gonzalo octubre2021,date=2021-10-21,week=None,day=None)>,\n",
       " <Workout(id=22,name=torso,program=Macro Pisano,block=Micro5 Gonzalo octubre2021,date=2021-10-22,week=None,day=None)>,\n",
       " <Workout(id=23,name=pierna,program=Macro Pisano,block=Micro6 Gonzalo octubre2021,date=2021-10-25,week=None,day=None)>,\n",
       " <Workout(id=24,name=torso,program=Macro Pisano,block=Micro6 Gonzalo octubre2021,date=2021-10-26,week=None,day=None)>,\n",
       " <Workout(id=25,name=pierna post,program=Macro Pisano,block=Micro6 Gonzalo octubre2021,date=2021-10-28,week=None,day=None)>,\n",
       " <Workout(id=26,name=torso,program=Macro Pisano,block=Micro6 Gonzalo octubre2021,date=2021-10-29,week=None,day=None)>,\n",
       " <Workout(id=27,name=pierna,program=Macro Pisano,block=Micro8 Gonzalo noviembre2021,date=2021-11-08,week=None,day=None)>,\n",
       " <Workout(id=28,name=torso,program=Macro Pisano,block=Micro8 Gonzalo noviembre2021,date=2021-11-09,week=None,day=None)>,\n",
       " <Workout(id=29,name=pierna post,program=Macro Pisano,block=Micro8 Gonzalo noviembre2021,date=2021-11-11,week=None,day=None)>,\n",
       " <Workout(id=30,name=torso,program=Macro Pisano,block=Micro8 Gonzalo noviembre2021,date=2021-11-12,week=None,day=None)>]"
      ]
     },
     "execution_count": 5,
     "metadata": {},
     "output_type": "execute_result"
    }
   ],
   "source": [
    "session.query(Workout).all()\n",
    "# session.query(Block).filter_by(block_id = 1).one()\n",
    "# record_to_del = session.query(Block).filter_by(block_id = 11).one()\n",
    "# record_to_del\n",
    "# session.delete(record_to_del)\n",
    "# session.commit()"
   ]
  },
  {
   "cell_type": "code",
   "execution_count": 4,
   "metadata": {},
   "outputs": [
    {
     "name": "stdout",
     "output_type": "stream",
     "text": [
      "[<Exercise(id=11,desc=dominadas libres)>, <Exercise(id=73,desc=dominadas libres )>]\n",
      "<Exercise(id=2,desc=dominadas)>\n"
     ]
    }
   ],
   "source": [
    "###### Change exercise name ######\n",
    "# 1st. Get exercises IDs to change in all necessary tables\n",
    "exer_to_change =  session.query(Exercise).filter(Exercise.exercise_desc.like(\"dominadas libres%\")).all()\n",
    "print(exer_to_change)\n",
    "ids_to_change = [i.exercise_id for i in exer_to_change]\n",
    "# 2nd. Get \"valid\" exercise ID to replace\n",
    "valid_exer = session.query(Exercise).filter(Exercise.exercise_desc.like(\"dominadas\")).one()\n",
    "print(valid_exer)\n",
    "\n",
    "# 3rd. Get all affected records in necessary tables\n",
    "wods_to_change = session.query(Workout_set).filter(Workout_set.exercise_id.in_(ids_to_change)).all()\n",
    "prs_to_change = session.query(Historic_pr).filter(Historic_pr.exercise_id.in_(ids_to_change)).all()\n",
    "ex_mus_to_change = session.query(exercise_muscle).filter(exercise_muscle.c.exercise_id.in_(ids_to_change)).all()\n",
    "# print(wods_to_change)\n",
    "\n",
    "# 4th. Update to \"valid\" ID in all tables\n",
    "for wod in wods_to_change:\n",
    "    wod.exercise_id = valid_exer.exercise_id\n",
    "    print(wod)\n",
    "for pr in prs_to_change:\n",
    "    pr.exercise_id = valid_exer.exercise_id\n",
    "    print(pr)\n",
    "for ex_mus in ex_mus_to_change:\n",
    "    ex_mus.exercise_id = valid_exer.exercise_id\n",
    "    print(ex_mus)\n",
    "\n",
    "# 5th. Finally, drop the now invalid name records\n",
    "for record in exer_to_change:\n",
    "    session.delete(record)\n",
    "\n",
    "# print(wods_to_change)"
   ]
  },
  {
   "cell_type": "code",
   "execution_count": 5,
   "metadata": {},
   "outputs": [
    {
     "data": {
      "text/plain": [
       "[]"
      ]
     },
     "execution_count": 5,
     "metadata": {},
     "output_type": "execute_result"
    }
   ],
   "source": [
    "session.query(Exercise).filter(Exercise.exercise_id.in_([11, 73])).all()\n",
    "# exercise_muscle"
   ]
  },
  {
   "cell_type": "code",
   "execution_count": null,
   "metadata": {},
   "outputs": [],
   "source": [
    "[i.exercise_id for i in exer_to_change]\n",
    "valid_exer.exercise_id"
   ]
  }
 ],
 "metadata": {
  "interpreter": {
   "hash": "c2508201fbb44b886c4ff1bd0f038d413eeceb5758ef3d475589de0abbab659f"
  },
  "kernelspec": {
   "display_name": "Python 3.9.6 64-bit ('main_linux': conda)",
   "name": "python3"
  },
  "language_info": {
   "codemirror_mode": {
    "name": "ipython",
    "version": 3
   },
   "file_extension": ".py",
   "mimetype": "text/x-python",
   "name": "python",
   "nbconvert_exporter": "python",
   "pygments_lexer": "ipython3",
   "version": "3.9.6"
  },
  "orig_nbformat": 4
 },
 "nbformat": 4,
 "nbformat_minor": 2
}
