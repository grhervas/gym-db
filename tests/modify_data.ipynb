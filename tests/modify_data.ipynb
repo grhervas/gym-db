{
 "cells": [
  {
   "cell_type": "code",
   "execution_count": 1,
   "metadata": {},
   "outputs": [],
   "source": [
    "from pathlib import Path\n",
    "import os\n",
    "\n",
    "os.chdir(Path.cwd().parent)"
   ]
  },
  {
   "cell_type": "code",
   "execution_count": 3,
   "metadata": {},
   "outputs": [],
   "source": [
    "import pandas as pd\n",
    "from time import time\n",
    "\n",
    "from sqlalchemy import create_engine, func\n",
    "from sqlalchemy.orm import sessionmaker\n",
    "from sqlalchemy.orm.exc import NoResultFound\n",
    "\n",
    "from models import (Program, Block, Workout, Workout_set, Exercise, \n",
    "                    Log_workout, Log_set, Historic_pr, exercise_muscle)"
   ]
  },
  {
   "cell_type": "code",
   "execution_count": 4,
   "metadata": {},
   "outputs": [],
   "source": [
    "engine = create_engine(f\"sqlite:///data/db/gym_database.db\")\n",
    "Session = sessionmaker(bind=engine)\n",
    "session = Session()"
   ]
  },
  {
   "cell_type": "code",
   "execution_count": 13,
   "metadata": {},
   "outputs": [
    {
     "data": {
      "text/plain": [
       "[datetime.date(2021, 1, 1), None, datetime.date(2021, 9, 6)]"
      ]
     },
     "execution_count": 13,
     "metadata": {},
     "output_type": "execute_result"
    }
   ],
   "source": [
    "[r.date_start for r in session.query(Program)]\n",
    "# session.query(Block).filter_by(block_id = 1).one()\n",
    "# record_to_del = session.query(Block).filter_by(block_id = 11).one()\n",
    "# record_to_del\n",
    "# session.delete(record_to_del)\n",
    "# session.commit()"
   ]
  },
  {
   "cell_type": "code",
   "execution_count": 4,
   "metadata": {},
   "outputs": [
    {
     "name": "stdout",
     "output_type": "stream",
     "text": [
      "[<Exercise(id=11,desc=dominadas libres)>, <Exercise(id=73,desc=dominadas libres )>]\n",
      "<Exercise(id=2,desc=dominadas)>\n"
     ]
    }
   ],
   "source": [
    "###### Change exercise name ######\n",
    "# 1st. Get exercises IDs to change in all necessary tables\n",
    "exer_to_change =  session.query(Exercise).filter(Exercise.exercise_desc.like(\"dominadas libres%\")).all()\n",
    "print(exer_to_change)\n",
    "ids_to_change = [i.exercise_id for i in exer_to_change]\n",
    "# 2nd. Get \"valid\" exercise ID to replace\n",
    "valid_exer = session.query(Exercise).filter(Exercise.exercise_desc.like(\"dominadas\")).one()\n",
    "print(valid_exer)\n",
    "\n",
    "# 3rd. Get all affected records in necessary tables\n",
    "wods_to_change = session.query(Workout_set).filter(Workout_set.exercise_id.in_(ids_to_change)).all()\n",
    "prs_to_change = session.query(Historic_pr).filter(Historic_pr.exercise_id.in_(ids_to_change)).all()\n",
    "ex_mus_to_change = session.query(exercise_muscle).filter(exercise_muscle.c.exercise_id.in_(ids_to_change)).all()\n",
    "# print(wods_to_change)\n",
    "\n",
    "# 4th. Update to \"valid\" ID in all tables\n",
    "for wod in wods_to_change:\n",
    "    wod.exercise_id = valid_exer.exercise_id\n",
    "    print(wod)\n",
    "for pr in prs_to_change:\n",
    "    pr.exercise_id = valid_exer.exercise_id\n",
    "    print(pr)\n",
    "for ex_mus in ex_mus_to_change:\n",
    "    ex_mus.exercise_id = valid_exer.exercise_id\n",
    "    print(ex_mus)\n",
    "\n",
    "# 5th. Finally, drop the now invalid name records\n",
    "for record in exer_to_change:\n",
    "    session.delete(record)\n",
    "\n",
    "# print(wods_to_change)"
   ]
  },
  {
   "cell_type": "code",
   "execution_count": 5,
   "metadata": {},
   "outputs": [
    {
     "data": {
      "text/plain": [
       "[]"
      ]
     },
     "execution_count": 5,
     "metadata": {},
     "output_type": "execute_result"
    }
   ],
   "source": [
    "session.query(Exercise).filter(Exercise.exercise_id.in_([11, 73])).all()\n",
    "# exercise_muscle"
   ]
  },
  {
   "cell_type": "code",
   "execution_count": null,
   "metadata": {},
   "outputs": [],
   "source": [
    "[i.exercise_id for i in exer_to_change]\n",
    "valid_exer.exercise_id"
   ]
  }
 ],
 "metadata": {
  "interpreter": {
   "hash": "c2508201fbb44b886c4ff1bd0f038d413eeceb5758ef3d475589de0abbab659f"
  },
  "kernelspec": {
   "display_name": "Python 3.9.6 64-bit ('main_linux': conda)",
   "name": "python3"
  },
  "language_info": {
   "codemirror_mode": {
    "name": "ipython",
    "version": 3
   },
   "file_extension": ".py",
   "mimetype": "text/x-python",
   "name": "python",
   "nbconvert_exporter": "python",
   "pygments_lexer": "ipython3",
   "version": "3.9.7"
  },
  "orig_nbformat": 4
 },
 "nbformat": 4,
 "nbformat_minor": 2
}
